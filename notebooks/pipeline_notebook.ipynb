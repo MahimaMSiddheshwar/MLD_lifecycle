{
  "cells": [
    {
      "cell_type": "markdown",
      "metadata": {},
      "source": [
        "# Machine Learning Preprocessing Pipeline\n",
        "\n",
        "This notebook provides a template for a standard machine learning preprocessing pipeline. It includes:\n",
        "1. Setup & Imports\n",
        "2. Loading data from CSV\n",
        "3. Missing Value Analysis & Imputation\n",
        "4. Basic Cleaning (duplicates, constant features, etc.)\n",
        "5. Train/Validation/Test Split\n",
        "6. Outlier Detection\n",
        "7. Feature Selection\n",
        "8. Next Steps (Modeling)\n",
        "\n",
        "Feel free to modify paths, parameters, and classes as needed for your project."
      ]
    },
    {
      "cell_type": "markdown",
      "metadata": {},
      "source": [
        "## 1. Setup & Imports\n",
        "Import all necessary libraries, define helper classes/functions if not already installed.\n"
      ]
    },
    {
      "cell_type": "code",
      "execution_count": null,
      "metadata": {},
      "outputs": [
        {
          "name": "stdout",
          "output_type": "stream",
          "text": [
            "zsh:1: command not found: pip\n"
          ]
        },
        {
          "ename": "ModuleNotFoundError",
          "evalue": "No module named 'sklearn'",
          "output_type": "error",
          "traceback": [
            "\u001b[0;31m---------------------------------------------------------------------------\u001b[0m",
            "\u001b[0;31mModuleNotFoundError\u001b[0m                       Traceback (most recent call last)",
            "Cell \u001b[0;32mIn[3], line 9\u001b[0m\n\u001b[1;32m      6\u001b[0m \u001b[38;5;28;01mimport\u001b[39;00m\u001b[38;5;250m \u001b[39m\u001b[38;5;21;01mseaborn\u001b[39;00m\u001b[38;5;250m \u001b[39m\u001b[38;5;28;01mas\u001b[39;00m\u001b[38;5;250m \u001b[39m\u001b[38;5;21;01msns\u001b[39;00m\n\u001b[1;32m      8\u001b[0m \u001b[38;5;66;03m# Sklearn & imblearn\u001b[39;00m\n\u001b[0;32m----> 9\u001b[0m \u001b[38;5;28;01mfrom\u001b[39;00m\u001b[38;5;250m \u001b[39m\u001b[38;5;21;01msklearn\u001b[39;00m\u001b[38;5;21;01m.\u001b[39;00m\u001b[38;5;21;01mmodel_selection\u001b[39;00m\u001b[38;5;250m \u001b[39m\u001b[38;5;28;01mimport\u001b[39;00m train_test_split\n\u001b[1;32m     10\u001b[0m \u001b[38;5;28;01mfrom\u001b[39;00m\u001b[38;5;250m \u001b[39m\u001b[38;5;21;01msklearn\u001b[39;00m\u001b[38;5;21;01m.\u001b[39;00m\u001b[38;5;21;01mpreprocessing\u001b[39;00m\u001b[38;5;250m \u001b[39m\u001b[38;5;28;01mimport\u001b[39;00m StandardScaler\n\u001b[1;32m     11\u001b[0m \u001b[38;5;28;01mfrom\u001b[39;00m\u001b[38;5;250m \u001b[39m\u001b[38;5;21;01msklearn\u001b[39;00m\u001b[38;5;21;01m.\u001b[39;00m\u001b[38;5;21;01mfeature_selection\u001b[39;00m\u001b[38;5;250m \u001b[39m\u001b[38;5;28;01mimport\u001b[39;00m VarianceThreshold\n",
            "\u001b[0;31mModuleNotFoundError\u001b[0m: No module named 'sklearn'"
          ]
        }
      ],
      "source": [
        "# !pip install pandas numpy matplotlib seaborn scikit-learn imbalanced-learn\n",
        "# Standard libraries\n",
        "import pandas as pd\n",
        "import numpy as np\n",
        "import matplotlib.pyplot as plt\n",
        "import seaborn as sns\n",
        "\n",
        "# Sklearn & imblearn\n",
        "from sklearn.model_selection import train_test_split\n",
        "from sklearn.preprocessing import StandardScaler\n",
        "from sklearn.feature_selection import VarianceThreshold\n",
        "from imblearn.over_sampling import SMOTE\n",
        "\n",
        "# Custom modules (adjust import paths as needed)\n",
        "# from stage2_imputer import Stage2Imputer\n",
        "# from stage3_outlier_detection import OutlierDetector\n",
        "# from stage4_scaling_transformation import NumericTransformer\n",
        "# from split_and_baseline import SplitAndBaseline\n",
        "\n",
        "# Display settings\n",
        "pd.set_option('display.max_columns', None)\n",
        "pd.set_option('display.max_rows', 100)\n",
        "sns.set(style=\"whitegrid\")"
      ]
    },
    {
      "cell_type": "markdown",
      "metadata": {},
      "source": [
        "## 2. Load Data\n",
        "Read your raw CSV data into a pandas DataFrame."
      ]
    },
    {
      "cell_type": "code",
      "execution_count": 4,
      "metadata": {},
      "outputs": [
        {
          "data": {
            "text/html": [
              "<div>\n",
              "<style scoped>\n",
              "    .dataframe tbody tr th:only-of-type {\n",
              "        vertical-align: middle;\n",
              "    }\n",
              "\n",
              "    .dataframe tbody tr th {\n",
              "        vertical-align: top;\n",
              "    }\n",
              "\n",
              "    .dataframe thead th {\n",
              "        text-align: right;\n",
              "    }\n",
              "</style>\n",
              "<table border=\"1\" class=\"dataframe\">\n",
              "  <thead>\n",
              "    <tr style=\"text-align: right;\">\n",
              "      <th></th>\n",
              "      <th>Unnamed: 0</th>\n",
              "      <th>POLE</th>\n",
              "      <th>DES</th>\n",
              "      <th>SDHB</th>\n",
              "      <th>RBPMS</th>\n",
              "      <th>DEDD</th>\n",
              "      <th>CEBPA</th>\n",
              "      <th>DCAKD</th>\n",
              "      <th>SGSH</th>\n",
              "      <th>NRL</th>\n",
              "      <th>...</th>\n",
              "      <th>PTPRG</th>\n",
              "      <th>CILP</th>\n",
              "      <th>PRLR</th>\n",
              "      <th>MYCBPAP</th>\n",
              "      <th>LRAT</th>\n",
              "      <th>MYB</th>\n",
              "      <th>CENPK</th>\n",
              "      <th>ACD</th>\n",
              "      <th>TANK</th>\n",
              "      <th>label</th>\n",
              "    </tr>\n",
              "  </thead>\n",
              "  <tbody>\n",
              "    <tr>\n",
              "      <th>0</th>\n",
              "      <td>GSM593690</td>\n",
              "      <td>0.142487</td>\n",
              "      <td>1.478062</td>\n",
              "      <td>-0.836428</td>\n",
              "      <td>2.070956</td>\n",
              "      <td>0.073140</td>\n",
              "      <td>1.722313</td>\n",
              "      <td>0.050063</td>\n",
              "      <td>0.294314</td>\n",
              "      <td>0.390560</td>\n",
              "      <td>...</td>\n",
              "      <td>0.110103</td>\n",
              "      <td>3.035159</td>\n",
              "      <td>1.242198</td>\n",
              "      <td>0.196444</td>\n",
              "      <td>-1.270435</td>\n",
              "      <td>0.622320</td>\n",
              "      <td>-3.451716</td>\n",
              "      <td>-0.181224</td>\n",
              "      <td>1.643434</td>\n",
              "      <td>0</td>\n",
              "    </tr>\n",
              "    <tr>\n",
              "      <th>1</th>\n",
              "      <td>GSM593691</td>\n",
              "      <td>-1.774954</td>\n",
              "      <td>3.223293</td>\n",
              "      <td>0.081363</td>\n",
              "      <td>0.283923</td>\n",
              "      <td>0.542730</td>\n",
              "      <td>0.215676</td>\n",
              "      <td>-0.079367</td>\n",
              "      <td>-0.720357</td>\n",
              "      <td>0.638255</td>\n",
              "      <td>...</td>\n",
              "      <td>-0.030757</td>\n",
              "      <td>5.501478</td>\n",
              "      <td>0.520373</td>\n",
              "      <td>0.319409</td>\n",
              "      <td>0.237947</td>\n",
              "      <td>0.332110</td>\n",
              "      <td>-3.231967</td>\n",
              "      <td>-0.306968</td>\n",
              "      <td>1.993197</td>\n",
              "      <td>0</td>\n",
              "    </tr>\n",
              "    <tr>\n",
              "      <th>2</th>\n",
              "      <td>GSM593692</td>\n",
              "      <td>-1.225429</td>\n",
              "      <td>2.943544</td>\n",
              "      <td>-0.101389</td>\n",
              "      <td>0.646341</td>\n",
              "      <td>0.419124</td>\n",
              "      <td>1.312138</td>\n",
              "      <td>-0.053724</td>\n",
              "      <td>-0.363478</td>\n",
              "      <td>0.713467</td>\n",
              "      <td>...</td>\n",
              "      <td>-0.031351</td>\n",
              "      <td>3.678504</td>\n",
              "      <td>0.743308</td>\n",
              "      <td>0.639421</td>\n",
              "      <td>-0.065002</td>\n",
              "      <td>-1.054161</td>\n",
              "      <td>-4.359466</td>\n",
              "      <td>0.096612</td>\n",
              "      <td>0.675232</td>\n",
              "      <td>0</td>\n",
              "    </tr>\n",
              "    <tr>\n",
              "      <th>3</th>\n",
              "      <td>GSM593693</td>\n",
              "      <td>-1.875199</td>\n",
              "      <td>0.785178</td>\n",
              "      <td>-0.142389</td>\n",
              "      <td>0.367565</td>\n",
              "      <td>0.428864</td>\n",
              "      <td>0.235769</td>\n",
              "      <td>0.226918</td>\n",
              "      <td>-0.531123</td>\n",
              "      <td>0.919098</td>\n",
              "      <td>...</td>\n",
              "      <td>0.054139</td>\n",
              "      <td>4.160051</td>\n",
              "      <td>0.572116</td>\n",
              "      <td>0.459532</td>\n",
              "      <td>0.286015</td>\n",
              "      <td>0.930778</td>\n",
              "      <td>-4.033086</td>\n",
              "      <td>-0.418686</td>\n",
              "      <td>1.648603</td>\n",
              "      <td>0</td>\n",
              "    </tr>\n",
              "    <tr>\n",
              "      <th>4</th>\n",
              "      <td>GSM593694</td>\n",
              "      <td>-1.977693</td>\n",
              "      <td>0.410238</td>\n",
              "      <td>0.050912</td>\n",
              "      <td>0.101592</td>\n",
              "      <td>0.511912</td>\n",
              "      <td>1.235300</td>\n",
              "      <td>-0.224408</td>\n",
              "      <td>-0.783447</td>\n",
              "      <td>0.594102</td>\n",
              "      <td>...</td>\n",
              "      <td>0.815643</td>\n",
              "      <td>5.138823</td>\n",
              "      <td>0.206469</td>\n",
              "      <td>0.613082</td>\n",
              "      <td>-0.762187</td>\n",
              "      <td>-0.955828</td>\n",
              "      <td>-2.309946</td>\n",
              "      <td>-0.372936</td>\n",
              "      <td>1.290645</td>\n",
              "      <td>0</td>\n",
              "    </tr>\n",
              "  </tbody>\n",
              "</table>\n",
              "<p>5 rows × 1943 columns</p>\n",
              "</div>"
            ],
            "text/plain": [
              "  Unnamed: 0      POLE       DES      SDHB     RBPMS      DEDD     CEBPA  \\\n",
              "0  GSM593690  0.142487  1.478062 -0.836428  2.070956  0.073140  1.722313   \n",
              "1  GSM593691 -1.774954  3.223293  0.081363  0.283923  0.542730  0.215676   \n",
              "2  GSM593692 -1.225429  2.943544 -0.101389  0.646341  0.419124  1.312138   \n",
              "3  GSM593693 -1.875199  0.785178 -0.142389  0.367565  0.428864  0.235769   \n",
              "4  GSM593694 -1.977693  0.410238  0.050912  0.101592  0.511912  1.235300   \n",
              "\n",
              "      DCAKD      SGSH       NRL  ...     PTPRG      CILP      PRLR   MYCBPAP  \\\n",
              "0  0.050063  0.294314  0.390560  ...  0.110103  3.035159  1.242198  0.196444   \n",
              "1 -0.079367 -0.720357  0.638255  ... -0.030757  5.501478  0.520373  0.319409   \n",
              "2 -0.053724 -0.363478  0.713467  ... -0.031351  3.678504  0.743308  0.639421   \n",
              "3  0.226918 -0.531123  0.919098  ...  0.054139  4.160051  0.572116  0.459532   \n",
              "4 -0.224408 -0.783447  0.594102  ...  0.815643  5.138823  0.206469  0.613082   \n",
              "\n",
              "       LRAT       MYB     CENPK       ACD      TANK  label  \n",
              "0 -1.270435  0.622320 -3.451716 -0.181224  1.643434      0  \n",
              "1  0.237947  0.332110 -3.231967 -0.306968  1.993197      0  \n",
              "2 -0.065002 -1.054161 -4.359466  0.096612  0.675232      0  \n",
              "3  0.286015  0.930778 -4.033086 -0.418686  1.648603      0  \n",
              "4 -0.762187 -0.955828 -2.309946 -0.372936  1.290645      0  \n",
              "\n",
              "[5 rows x 1943 columns]"
            ]
          },
          "execution_count": 4,
          "metadata": {},
          "output_type": "execute_result"
        }
      ],
      "source": [
        "# TODO: Update the path to your CSV file\n",
        "DATA_PATH = '../Data/merged_all_3_datasets.csv'\n",
        "\n",
        "df = pd.read_csv(DATA_PATH)\n",
        "df.head()"
      ]
    },
    {
      "cell_type": "code",
      "execution_count": 1,
      "id": "d1bdb275",
      "metadata": {},
      "outputs": [
        {
          "ename": "NameError",
          "evalue": "name 'df' is not defined",
          "output_type": "error",
          "traceback": [
            "\u001b[0;31m---------------------------------------------------------------------------\u001b[0m",
            "\u001b[0;31mNameError\u001b[0m                                 Traceback (most recent call last)",
            "Cell \u001b[0;32mIn[1], line 2\u001b[0m\n\u001b[1;32m      1\u001b[0m \u001b[38;5;66;03m# df.info()\u001b[39;00m\n\u001b[0;32m----> 2\u001b[0m \u001b[43mdf\u001b[49m\u001b[38;5;241m.\u001b[39mshape\n\u001b[1;32m      3\u001b[0m df\u001b[38;5;241m.\u001b[39minfo()\n",
            "\u001b[0;31mNameError\u001b[0m: name 'df' is not defined"
          ]
        }
      ],
      "source": [
        "# df.info()\n",
        "df.shape\n",
        "df.info()"
      ]
    },
    {
      "cell_type": "markdown",
      "metadata": {},
      "source": [
        "### 2.1 Quick Profile\n",
        "- Dimensions\n",
        "- Data types\n",
        "- Missing value summary"
      ]
    },
    {
      "cell_type": "code",
      "execution_count": 6,
      "id": "152ad325",
      "metadata": {
        "vscode": {
          "languageId": "shellscript"
        }
      },
      "outputs": [
        {
          "name": "stdout",
          "output_type": "stream",
          "text": [
            "Defaulting to user installation because normal site-packages is not writeable\n",
            "Requirement already satisfied: ydata-profiling==4.0.0 in /Users/aashayphirke/Library/Python/3.9/lib/python/site-packages (4.0.0)\n",
            "Requirement already satisfied: htmlmin==0.1.12 in /Users/aashayphirke/Library/Python/3.9/lib/python/site-packages (from ydata-profiling==4.0.0) (0.1.12)\n",
            "Requirement already satisfied: statsmodels<0.14,>=0.13.2 in /Users/aashayphirke/Library/Python/3.9/lib/python/site-packages (from ydata-profiling==4.0.0) (0.13.5)\n",
            "Requirement already satisfied: seaborn<0.13,>=0.10.1 in /Users/aashayphirke/Library/Python/3.9/lib/python/site-packages (from ydata-profiling==4.0.0) (0.12.2)\n",
            "Requirement already satisfied: pydantic<1.11,>=1.8.1 in /Users/aashayphirke/Library/Python/3.9/lib/python/site-packages (from ydata-profiling==4.0.0) (1.10.22)\n",
            "Requirement already satisfied: visions[type_image_path]==0.7.5 in /Users/aashayphirke/Library/Python/3.9/lib/python/site-packages (from ydata-profiling==4.0.0) (0.7.5)\n",
            "Requirement already satisfied: multimethod<1.10,>=1.4 in /Users/aashayphirke/Library/Python/3.9/lib/python/site-packages (from ydata-profiling==4.0.0) (1.9.1)\n",
            "Requirement already satisfied: tqdm<4.65,>=4.48.2 in /Users/aashayphirke/Library/Python/3.9/lib/python/site-packages (from ydata-profiling==4.0.0) (4.64.1)\n",
            "Requirement already satisfied: phik<0.13,>=0.11.1 in /Users/aashayphirke/Library/Python/3.9/lib/python/site-packages (from ydata-profiling==4.0.0) (0.12.4)\n",
            "Requirement already satisfied: numpy<1.24,>=1.16.0 in /Users/aashayphirke/Library/Python/3.9/lib/python/site-packages (from ydata-profiling==4.0.0) (1.23.5)\n",
            "Requirement already satisfied: PyYAML<6.1,>=5.0.0 in /Users/aashayphirke/Library/Python/3.9/lib/python/site-packages (from ydata-profiling==4.0.0) (6.0.2)\n",
            "Requirement already satisfied: pandas!=1.4.0,<1.6,>1.1 in /Users/aashayphirke/Library/Python/3.9/lib/python/site-packages (from ydata-profiling==4.0.0) (1.5.3)\n",
            "Requirement already satisfied: jinja2<3.2,>=2.11.1 in /Users/aashayphirke/Library/Python/3.9/lib/python/site-packages (from ydata-profiling==4.0.0) (3.1.6)\n",
            "Requirement already satisfied: requests<2.29,>=2.24.0 in /Users/aashayphirke/Library/Python/3.9/lib/python/site-packages (from ydata-profiling==4.0.0) (2.28.2)\n",
            "Requirement already satisfied: typeguard<2.14,>=2.13.2 in /Users/aashayphirke/Library/Python/3.9/lib/python/site-packages (from ydata-profiling==4.0.0) (2.13.3)\n",
            "Requirement already satisfied: scipy<1.10,>=1.4.1 in /Users/aashayphirke/Library/Python/3.9/lib/python/site-packages (from ydata-profiling==4.0.0) (1.9.3)\n",
            "Requirement already satisfied: matplotlib<3.7,>=3.2 in /Users/aashayphirke/Library/Python/3.9/lib/python/site-packages (from ydata-profiling==4.0.0) (3.6.3)\n",
            "Requirement already satisfied: networkx>=2.4 in /Users/aashayphirke/Library/Python/3.9/lib/python/site-packages (from visions[type_image_path]==0.7.5->ydata-profiling==4.0.0) (3.2.1)\n",
            "Requirement already satisfied: tangled-up-in-unicode>=0.0.4 in /Users/aashayphirke/Library/Python/3.9/lib/python/site-packages (from visions[type_image_path]==0.7.5->ydata-profiling==4.0.0) (0.2.0)\n",
            "Requirement already satisfied: attrs>=19.3.0 in /Users/aashayphirke/Library/Python/3.9/lib/python/site-packages (from visions[type_image_path]==0.7.5->ydata-profiling==4.0.0) (25.3.0)\n",
            "Requirement already satisfied: imagehash in /Users/aashayphirke/Library/Python/3.9/lib/python/site-packages (from visions[type_image_path]==0.7.5->ydata-profiling==4.0.0) (4.3.2)\n",
            "Requirement already satisfied: Pillow in /Users/aashayphirke/Library/Python/3.9/lib/python/site-packages (from visions[type_image_path]==0.7.5->ydata-profiling==4.0.0) (11.2.1)\n",
            "Requirement already satisfied: MarkupSafe>=2.0 in /Users/aashayphirke/Library/Python/3.9/lib/python/site-packages (from jinja2<3.2,>=2.11.1->ydata-profiling==4.0.0) (3.0.2)\n",
            "Requirement already satisfied: contourpy>=1.0.1 in /Users/aashayphirke/Library/Python/3.9/lib/python/site-packages (from matplotlib<3.7,>=3.2->ydata-profiling==4.0.0) (1.3.0)\n",
            "Requirement already satisfied: cycler>=0.10 in /Users/aashayphirke/Library/Python/3.9/lib/python/site-packages (from matplotlib<3.7,>=3.2->ydata-profiling==4.0.0) (0.12.1)\n",
            "Requirement already satisfied: pyparsing>=2.2.1 in /Users/aashayphirke/Library/Python/3.9/lib/python/site-packages (from matplotlib<3.7,>=3.2->ydata-profiling==4.0.0) (3.2.3)\n",
            "Requirement already satisfied: python-dateutil>=2.7 in /Users/aashayphirke/Library/Python/3.9/lib/python/site-packages (from matplotlib<3.7,>=3.2->ydata-profiling==4.0.0) (2.9.0.post0)\n",
            "Requirement already satisfied: packaging>=20.0 in /Users/aashayphirke/Library/Python/3.9/lib/python/site-packages (from matplotlib<3.7,>=3.2->ydata-profiling==4.0.0) (25.0)\n",
            "Requirement already satisfied: kiwisolver>=1.0.1 in /Users/aashayphirke/Library/Python/3.9/lib/python/site-packages (from matplotlib<3.7,>=3.2->ydata-profiling==4.0.0) (1.4.7)\n",
            "Requirement already satisfied: fonttools>=4.22.0 in /Users/aashayphirke/Library/Python/3.9/lib/python/site-packages (from matplotlib<3.7,>=3.2->ydata-profiling==4.0.0) (4.58.2)\n",
            "Requirement already satisfied: pytz>=2020.1 in /Users/aashayphirke/Library/Python/3.9/lib/python/site-packages (from pandas!=1.4.0,<1.6,>1.1->ydata-profiling==4.0.0) (2025.2)\n",
            "Requirement already satisfied: joblib>=0.14.1 in /Users/aashayphirke/Library/Python/3.9/lib/python/site-packages (from phik<0.13,>=0.11.1->ydata-profiling==4.0.0) (1.5.1)\n",
            "Requirement already satisfied: typing-extensions>=4.2.0 in /Users/aashayphirke/Library/Python/3.9/lib/python/site-packages (from pydantic<1.11,>=1.8.1->ydata-profiling==4.0.0) (4.14.0)\n",
            "Requirement already satisfied: six>=1.5 in /Library/Developer/CommandLineTools/Library/Frameworks/Python3.framework/Versions/3.9/lib/python3.9/site-packages (from python-dateutil>=2.7->matplotlib<3.7,>=3.2->ydata-profiling==4.0.0) (1.15.0)\n",
            "Requirement already satisfied: idna<4,>=2.5 in /Users/aashayphirke/Library/Python/3.9/lib/python/site-packages (from requests<2.29,>=2.24.0->ydata-profiling==4.0.0) (3.10)\n",
            "Requirement already satisfied: charset-normalizer<4,>=2 in /Users/aashayphirke/Library/Python/3.9/lib/python/site-packages (from requests<2.29,>=2.24.0->ydata-profiling==4.0.0) (3.4.2)\n",
            "Requirement already satisfied: certifi>=2017.4.17 in /Users/aashayphirke/Library/Python/3.9/lib/python/site-packages (from requests<2.29,>=2.24.0->ydata-profiling==4.0.0) (2025.4.26)\n",
            "Requirement already satisfied: urllib3<1.27,>=1.21.1 in /Users/aashayphirke/Library/Python/3.9/lib/python/site-packages (from requests<2.29,>=2.24.0->ydata-profiling==4.0.0) (1.26.20)\n",
            "Requirement already satisfied: patsy>=0.5.2 in /Users/aashayphirke/Library/Python/3.9/lib/python/site-packages (from statsmodels<0.14,>=0.13.2->ydata-profiling==4.0.0) (1.0.1)\n",
            "Requirement already satisfied: PyWavelets in /Users/aashayphirke/Library/Python/3.9/lib/python/site-packages (from imagehash->visions[type_image_path]==0.7.5->ydata-profiling==4.0.0) (1.6.0)\n",
            "\u001b[33mWARNING: You are using pip version 21.2.4; however, version 25.1.1 is available.\n",
            "You should consider upgrading via the '/Library/Developer/CommandLineTools/usr/bin/python3 -m pip install --upgrade pip' command.\u001b[0m\n"
          ]
        }
      ],
      "source": [
        "# !pip install ydata-profiling \n",
        "# !pip install --upgrade setuptools\n",
        "# !pip uninstall numpy -y\n",
        "# !pip install \"numba\"\n",
        "# !pip install --force-reinstall numba ydata-profiling\n",
        "#!pip uninstall numpy numba ydata-profiling -y\n",
        "# !pip install --no-deps ydata-profiling\n",
        "# !pip install \"ydata-profiling=4.0.0\"\n",
        "\n",
        "!pip3 install ydata-profiling==4.0.0\n"
      ]
    },
    {
      "cell_type": "code",
      "execution_count": null,
      "metadata": {},
      "outputs": [],
      "source": [
        "# Shape\n",
        "print(f\"Dataset shape: {df.shape}\")\n",
        "\n",
        "# Data types\n",
        "df.dtypes"
      ]
    },
    {
      "cell_type": "code",
      "execution_count": null,
      "metadata": {},
      "outputs": [],
      "source": [
        "# Missing values\n",
        "missing_summary = df.isna().mean().sort_values(ascending=False)\n",
        "missing_summary.head(10)"
      ]
    },
    {
      "cell_type": "markdown",
      "metadata": {},
      "source": [
        "## 3. Missing Value Analysis & Imputation\n",
        "Use a dedicated imputer (e.g., Stage2Imputer) or simple strategies here."
      ]
    },
    {
      "cell_type": "code",
      "execution_count": null,
      "metadata": {},
      "outputs": [],
      "source": [
        "# Example: Using Stage2Imputer (uncomment once imported)\n",
        "# imputer = Stage2Imputer(max_missing_frac_drop=0.9, knn_neighbors=5, verbose=True)\n",
        "# df_imputed = imputer.fit_transform(df)\n",
        "# df_imputed.head()\n",
        "\n",
        "# For demonstration, a simple approach:\n",
        "df_imputed = df.copy()\n",
        "# Numeric median imputation\n",
        "for col in df_imputed.select_dtypes(include=[np.number]).columns:\n",
        "    df_imputed[col].fillna(df_imputed[col].median(), inplace=True)\n",
        "# Categorical mode imputation\n",
        "for col in df_imputed.select_dtypes(include=['object', 'category']).columns:\n",
        "    df_imputed[col].fillna(df_imputed[col].mode()[0], inplace=True)\n",
        "\n",
        "df_imputed.isna().sum().sum()  # Should be zero if no missing remain"
      ]
    },
    {
      "cell_type": "markdown",
      "metadata": {},
      "source": [
        "## 4. Basic Cleaning\n",
        "- Remove duplicates\n",
        "- Remove constant or near-constant features\n",
        "- High cardinality checks, etc."
      ]
    },
    {
      "cell_type": "code",
      "execution_count": null,
      "metadata": {},
      "outputs": [],
      "source": [
        "df_clean = df_imputed.copy()\n",
        "\n",
        "# 4.1 Drop duplicate rows\n",
        "before_dup = len(df_clean)\n",
        "df_clean.drop_duplicates(inplace=True)\n",
        "print(f\"Dropped {before_dup - len(df_clean)} duplicate rows\")\n",
        "\n",
        "# 4.2 Remove constant / near-constant columns (e.g., > 99% same value)\n",
        "constant_cols = [col for col in df_clean.columns \n",
        "                 if df_clean[col].nunique(dropna=False) / len(df_clean) < 0.01]\n",
        "df_clean.drop(columns=constant_cols, inplace=True)\n",
        "print(f\"Dropped {len(constant_cols)} constant/near-constant columns: {constant_cols}\")\n",
        "\n",
        "# 4.3 Optional: Remove high-cardinality categorical features\n",
        "high_card_cols = [col for col in df_clean.select_dtypes(include=['object', 'category']).columns \n",
        "                  if df_clean[col].nunique() > 100]\n",
        "# df_clean.drop(columns=high_card_cols, inplace=True)\n",
        "print(f\"High-cardinality columns (consider review): {high_card_cols}\")\n",
        "\n",
        "df_clean.shape"
      ]
    },
    {
      "cell_type": "markdown",
      "metadata": {},
      "source": [
        "## 5. Train/Validation/Test Split\n",
        "Split your data, optionally apply oversampling on training set."
      ]
    },
    {
      "cell_type": "code",
      "execution_count": null,
      "metadata": {},
      "outputs": [],
      "source": [
        "# Specify target column\n",
        "TARGET = 'your_target_column'\n",
        "\n",
        "X = df_clean.drop(columns=[TARGET])\n",
        "y = df_clean[TARGET]\n",
        "\n",
        "# 80/20 train + temp split\n",
        "X_train, X_temp, y_train, y_temp = train_test_split(\n",
        "    X, y, test_size=0.2, random_state=42, stratify=y if y.dtype != 'float' else None\n",
        ")\n",
        "\n",
        "# 50/50 validation + test split from temp\n",
        "X_val, X_test, y_val, y_test = train_test_split(\n",
        "    X_temp, y_temp, test_size=0.5, random_state=42, stratify=y_temp if y_temp.dtype != 'float' else None\n",
        ")\n",
        "\n",
        "# Optional: SMOTE oversampling on training (classification only)\n",
        "if y_train.dtype != 'float':  # classification\n",
        "    sm = SMOTE(random_state=42)\n",
        "    X_train_res, y_train_res = sm.fit_resample(X_train, y_train)\n",
        "    X_train, y_train = X_train_res, y_train_res\n",
        "\n",
        "print(f\"X_train: {X_train.shape}, X_val: {X_val.shape}, X_test: {X_test.shape}\")"
      ]
    },
    {
      "cell_type": "markdown",
      "metadata": {},
      "source": [
        "## 6. Outlier Detection\n",
        "Use the `OutlierDetector` class or a custom approach to identify and treat outliers in the training set."
      ]
    },
    {
      "cell_type": "code",
      "execution_count": null,
      "metadata": {},
      "outputs": [],
      "source": [
        "# Example: Using OutlierDetector (uncomment once imported)\n",
        "# outlier_detector = OutlierDetector(outlier_threshold=3, robust_covariance=True, cap_outliers=True)\n",
        "# train_df = pd.concat([X_train, y_train], axis=1)\n",
        "# train_clean = outlier_detector.fit_transform(train_df, numeric_cols=list(X_train.select_dtypes(include=[np.number]).columns))\n",
        "# X_train_clean = train_clean.drop(columns=[TARGET])\n",
        "# y_train_clean = train_clean[TARGET]\n",
        "\n",
        "# For demonstration: Detect using simple Z-score threshold on numeric features\n",
        "X_train_num = X_train.select_dtypes(include=[np.number]).copy()\n",
        "z_scores = np.abs((X_train_num - X_train_num.mean()) / X_train_num.std())\n",
        "outlier_mask = (z_scores > 3).any(axis=1)\n",
        "print(f\"Detected {outlier_mask.sum()} outliers by simple Z-score method.\")\n",
        "# Optionally drop or cap these rows\n",
        "X_train_clean = X_train[~outlier_mask]\n",
        "y_train_clean = y_train[~outlier_mask]\n",
        "print(f\"After dropping: X_train_clean: {X_train_clean.shape}\")"
      ]
    },
    {
      "cell_type": "markdown",
      "metadata": {},
      "source": [
        "## 7. Feature Selection\n",
        "- Remove low-variance features\n",
        "- Remove strongly correlated features\n"
      ]
    },
    {
      "cell_type": "code",
      "execution_count": null,
      "metadata": {},
      "outputs": [],
      "source": [
        "# 7.1 Remove low-variance features (VarianceThreshold)\n",
        "selector = VarianceThreshold(threshold=0.01)  # features with <1% variance\n",
        "selector.fit(X_train_clean)\n",
        "low_variance_cols = X_train_clean.columns[~selector.get_support()].tolist()\n",
        "print(f\"Low-variance columns to drop: {low_variance_cols}\")\n",
        "X_train_fs = X_train_clean.drop(columns=low_variance_cols)\n",
        "X_val_fs = X_val.drop(columns=low_variance_cols)\n",
        "X_test_fs = X_test.drop(columns=low_variance_cols)\n",
        "\n",
        "# 7.2 Remove highly correlated features\n",
        "corr_matrix = X_train_fs.corr().abs()\n",
        "upper_tri = corr_matrix.where(np.triu(np.ones(corr_matrix.shape), k=1).astype(bool))\n",
        "high_corr_cols = [col for col in upper_tri.columns if (upper_tri[col] > 0.9).any()]\n",
        "print(f\"Highly correlated columns to drop: {high_corr_cols}\")\n",
        "X_train_fs.drop(columns=high_corr_cols, inplace=True)\n",
        "X_val_fs.drop(columns=high_corr_cols, inplace=True)\n",
        "X_test_fs.drop(columns=high_corr_cols, inplace=True)\n",
        "\n",
        "print(f\"Final feature set size: {X_train_fs.shape[1]} features\")"
      ]
    },
    {
      "cell_type": "markdown",
      "metadata": {},
      "source": [
        "## 8. Next Steps: Modeling\n",
        "- Build and evaluate your machine learning models here.\n",
        "- Example: logistic regression, random forest, etc.\n"
      ]
    },
    {
      "cell_type": "code",
      "execution_count": null,
      "metadata": {},
      "outputs": [],
      "source": [
        "# Example placeholder:\n",
        "# from sklearn.linear_model import LogisticRegression\n",
        "# model = LogisticRegression()\n",
        "# model.fit(X_train_fs, y_train_clean)\n",
        "# preds = model.predict(X_val_fs)\n",
        "# from sklearn.metrics import accuracy_score\n",
        "# print(\"Validation accuracy:\", accuracy_score(y_val, preds))"
      ]
    }
  ],
  "metadata": {
    "kernelspec": {
      "display_name": "Python 3",
      "language": "python",
      "name": "python3"
    },
    "language_info": {
      "codemirror_mode": {
        "name": "ipython",
        "version": 3
      },
      "file_extension": ".py",
      "mimetype": "text/x-python",
      "name": "python",
      "nbconvert_exporter": "python",
      "pygments_lexer": "ipython3",
      "version": "3.9.6"
    }
  },
  "nbformat": 4,
  "nbformat_minor": 5
}
