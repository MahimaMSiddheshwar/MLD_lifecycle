{
  "cells": [
    {
      "cell_type": "markdown",
      "metadata": {},
      "source": [
        "# Pipeline Interactive Notebook\n",
        "Demonstration of each stage in the function-based pipeline."
      ]
    },
    {
      "cell_type": "code",
      "execution_count": null,
      "metadata": {},
      "outputs": [],
      "source": [
        "from pipeline import (\n",
        "    ingest,\n",
        "    inspect,\n",
        "    split,\n",
        "    impute,\n",
        "    scale_transform,\n",
        "    detect_outliers,\n",
        "    encode,\n",
        "    run_all\n",
        ")\n"
      ]
    },
    {
      "cell_type": "markdown",
      "metadata": {},
      "source": [
        "## Stage 0: Data Ingestion"
      ]
    },
    {
      "cell_type": "code",
      "execution_count": null,
      "metadata": {},
      "outputs": [],
      "source": [
        "df = ingest(\"data/raw/input.csv\", mode=\"file\", output_dir=\"outputs\")",
        "df.head()"
      ]
    },
    {
      "cell_type": "markdown",
      "metadata": {},
      "source": [
        "## Stage 1: Data Inspection"
      ]
    },
    {
      "cell_type": "code",
      "execution_count": null,
      "metadata": {},
      "outputs": [],
      "source": [
        "inspect(df, target_column=\"TARGET\", output_dir=\"outputs\")"
      ]
    },
    {
      "cell_type": "markdown",
      "metadata": {},
      "source": [
        "## Stage 2: Train/Val/Test Split"
      ]
    },
    {
      "cell_type": "code",
      "execution_count": null,
      "metadata": {},
      "outputs": [],
      "source": [
        "train, val, test = split(\n",
        "    df,\n",
        "    target_column='TARGET',\n",
        "    test_size=0.2,\n",
        "    val_size=0.1,\n",
        "    random_state=42,\n",
        "    output_dir='outputs'\n",
        ")\n",
        "train.shape, val.shape, test.shape"
      ]
    },
    {
      "cell_type": "markdown",
      "metadata": {},
      "source": [
        "## Stage 3: Imputation"
      ]
    },
    {
      "cell_type": "code",
      "execution_count": null,
      "metadata": {},
      "outputs": [],
      "source": [
        "train_i, val_i, test_i = impute(train, val, test, random_state=42, output_dir='outputs')"
      ]
    },
    {
      "cell_type": "markdown",
      "metadata": {},
      "source": [
        "## Stage 4: Scaling & Transformation"
      ]
    },
    {
      "cell_type": "code",
      "execution_count": null,
      "metadata": {},
      "outputs": [],
      "source": [
        "train_s, val_s, test_s = scale_transform(train_i, val_i, test_i, output_dir='outputs')"
      ]
    },
    {
      "cell_type": "markdown",
      "metadata": {},
      "source": [
        "## Stage 5: Outlier Detection"
      ]
    },
    {
      "cell_type": "code",
      "execution_count": null,
      "metadata": {},
      "outputs": [],
      "source": [
        "train_o, val_o, test_o = detect_outliers(train_s, val_s, test_s, output_dir='outputs')"
      ]
    },
    {
      "cell_type": "markdown",
      "metadata": {},
      "source": [
        "## Stage 6: Encoding"
      ]
    },
    {
      "cell_type": "code",
      "execution_count": null,
      "metadata": {},
      "outputs": [],
      "source": [
        "train_e, val_e, test_e = encode(train_o, val_o, test_o, output_dir='outputs')"
      ]
    },
    {
      "cell_type": "markdown",
      "metadata": {},
      "source": [
        "## Run the Full Pipeline"
      ]
    },
    {
      "cell_type": "code",
      "execution_count": null,
      "metadata": {},
      "outputs": [],
      "source": [
        "train_e, val_e, test_e = run_all(\n",
        "    source='data/raw/input.csv',\n",
        "    mode='file',\n",
        "    target_column='TARGET',\n",
        "    test_size=0.1,\n",
        "    val_size=0.1,\n",
        "    random_state=42,\n",
        "    output_dir='outputs'\n",
        ")"
      ]
    }
  ],
  "metadata": {
    "kernelspec": {
      "name": "python3"
    },
    "language_info": {
      "name": "python"
    }
  },
  "nbformat": 4,
  "nbformat_minor": 5
}