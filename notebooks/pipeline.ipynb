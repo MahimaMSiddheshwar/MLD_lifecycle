{
  "cells": [
    {
      "cell_type": "markdown",
      "metadata": {},
      "source": [
        "#  Interactive Notebook\n",
        "Demonstration of each stage in the function-based pipeline."
      ]
    },
    {
      "cell_type": "code",
      "execution_count": 1,
      "id": "2814c63c",
      "metadata": {},
      "outputs": [],
      "source": [
        "import pandas as pd"
      ]
    },
    {
      "cell_type": "code",
      "execution_count": 1,
      "id": "4f1bfc95",
      "metadata": {},
      "outputs": [
        {
          "ename": "NameError",
          "evalue": "name 'pd' is not defined",
          "output_type": "error",
          "traceback": [
            "\u001b[31m---------------------------------------------------------------------------\u001b[39m",
            "\u001b[31mNameError\u001b[39m                                 Traceback (most recent call last)",
            "\u001b[36mCell\u001b[39m\u001b[36m \u001b[39m\u001b[32mIn[1]\u001b[39m\u001b[32m, line 1\u001b[39m\n\u001b[32m----> \u001b[39m\u001b[32m1\u001b[39m df = \u001b[43mpd\u001b[49m.read_csv(\u001b[33m'\u001b[39m\u001b[33m../_Data/merged_all_3_datasets.csv\u001b[39m\u001b[33m'\u001b[39m)\n\u001b[32m      2\u001b[39m df.shape\n",
            "\u001b[31mNameError\u001b[39m: name 'pd' is not defined"
          ]
        }
      ],
      "source": [
        "df = pd.read_csv('../_Data/merged_all_3_datasets.csv')\n",
        "df.shape\n"
      ]
    },
    {
      "cell_type": "code",
      "execution_count": 8,
      "id": "9ca98f44",
      "metadata": {},
      "outputs": [
        {
          "name": "stdout",
          "output_type": "stream",
          "text": [
            "<class 'pandas.core.frame.DataFrame'>\n",
            "RangeIndex: 271 entries, 0 to 270\n",
            "Columns: 1943 entries, Unnamed: 0 to label\n",
            "dtypes: float64(1941), int64(1), object(1)\n",
            "memory usage: 4.0+ MB\n"
          ]
        }
      ],
      "source": [
        "df.info()\n"
      ]
    },
    {
      "cell_type": "code",
      "execution_count": 9,
      "id": "a6e1cefa",
      "metadata": {},
      "outputs": [],
      "source": [
        "df.rename(columns={\"Unnamed: 0\": \"Sample\"}, inplace=True)\n"
      ]
    },
    {
      "cell_type": "code",
      "execution_count": 34,
      "id": "222c459c",
      "metadata": {},
      "outputs": [
        {
          "name": "stdout",
          "output_type": "stream",
          "text": [
            "<class 'pandas.core.frame.DataFrame'>\n",
            "RangeIndex: 271 entries, 0 to 270\n",
            "Columns: 1944 entries, Sample to outlier\n",
            "dtypes: float64(1941), int64(2), object(1)\n",
            "memory usage: 4.0+ MB\n"
          ]
        },
        {
          "data": {
            "text/plain": [
              "label\n",
              "1    239\n",
              "0     32\n",
              "Name: count, dtype: int64"
            ]
          },
          "execution_count": 34,
          "metadata": {},
          "output_type": "execute_result"
        }
      ],
      "source": [
        "df.info()\n",
        "df['label'].value_counts()"
      ]
    },
    {
      "cell_type": "code",
      "execution_count": 31,
      "id": "128cc714",
      "metadata": {},
      "outputs": [
        {
          "data": {
            "text/plain": [
              "label\n",
              "1    170\n",
              "0     26\n",
              "Name: count, dtype: int64"
            ]
          },
          "execution_count": 31,
          "metadata": {},
          "output_type": "execute_result"
        }
      ],
      "source": [
        "new = df.drop_duplicates()\n",
        "new['label'].value_counts()"
      ]
    },
    {
      "cell_type": "code",
      "execution_count": null,
      "id": "32eec041",
      "metadata": {},
      "outputs": [],
      "source": []
    },
    {
      "cell_type": "code",
      "execution_count": null,
      "id": "b1c40943",
      "metadata": {},
      "outputs": [],
      "source": []
    },
    {
      "cell_type": "code",
      "execution_count": 39,
      "id": "d3cf7784",
      "metadata": {},
      "outputs": [
        {
          "data": {
            "text/plain": [
              "196"
            ]
          },
          "execution_count": 39,
          "metadata": {},
          "output_type": "execute_result"
        }
      ],
      "source": [
        "df['Sample'].nunique()"
      ]
    },
    {
      "cell_type": "code",
      "execution_count": 40,
      "id": "c1fc79cb",
      "metadata": {},
      "outputs": [
        {
          "data": {
            "text/plain": [
              "POLE       1.533484\n",
              "DES        1.092294\n",
              "SDHB       1.574444\n",
              "RBPMS      1.383246\n",
              "DEDD       1.629562\n",
              "             ...   \n",
              "CENPK      1.406229\n",
              "ACD        1.602048\n",
              "TANK       1.336326\n",
              "label     -2.380185\n",
              "outlier   -4.073708\n",
              "Length: 1943, dtype: float64"
            ]
          },
          "execution_count": 40,
          "metadata": {},
          "output_type": "execute_result"
        }
      ],
      "source": [
        "df.skew(numeric_only=True)"
      ]
    },
    {
      "cell_type": "code",
      "execution_count": 41,
      "id": "2733413e",
      "metadata": {},
      "outputs": [],
      "source": [
        "from sklearn.ensemble import IsolationForest\n",
        "\n",
        "iso = IsolationForest(contamination=0.05, random_state=42)\n",
        "df['outlier'] = iso.fit_predict(df.select_dtypes(include='number'))\n",
        "# Outliers are marked as -1\n",
        "outliers = df[df['outlier'] == -1]"
      ]
    },
    {
      "cell_type": "code",
      "execution_count": 38,
      "id": "76f415b8",
      "metadata": {},
      "outputs": [
        {
          "data": {
            "image/png": "[encoded data removed]",
            "text/plain": [
              "<Figure size 1000x600 with 1 Axes>"
            ]
          },
          "metadata": {},
          "output_type": "display_data"
        }
      ],
      "source": [
        "import pandas as pd\n",
        "import matplotlib.pyplot as plt\n",
        "from scipy.stats import skew\n",
        "\n",
        "numeric_cols = df.select_dtypes(include=\"number\").columns\n",
        "\n",
        "# Calculate skewness\n",
        "skew_values = df[numeric_cols].apply(lambda x: skew(x.dropna()))\n",
        "\n",
        "# Plot\n",
        "plt.figure(figsize=(10, 6))\n",
        "skew_values.sort_values().plot(kind='barh')\n",
        "plt.axvline(x=0, color='black', linestyle='--')\n",
        "plt.title(\"Skewness of Numeric Features\")\n",
        "plt.xlabel(\"Skewness\")\n",
        "plt.ylabel(\"Features\")\n",
        "plt.grid(True)\n",
        "plt.tight_layout()\n",
        "plt.show()\n"
      ]
    },
    {
      "cell_type": "code",
      "execution_count": 3,
      "id": "0ae6776c",
      "metadata": {},
      "outputs": [
        {
          "name": "stdout",
          "output_type": "stream",
          "text": [
            "\u001b[1;35mRunning single step pipeline to execute step \u001b[0m\u001b[1;36mdataLoader\u001b[1;35m\u001b[0m\n",
            "\u001b[1;35mInitiating a new run for the pipeline: \u001b[0m\u001b[1;36mdataLoader\u001b[1;35m.\u001b[0m\n",
            "\u001b[1;35mCaching is disabled by default for \u001b[0m\u001b[1;36mdataLoader\u001b[1;35m.\u001b[0m\n",
            "\u001b[1;35mUsing user: \u001b[0m\u001b[1;36mdefault\u001b[1;35m\u001b[0m\n",
            "\u001b[1;35mUsing stack: \u001b[0m\u001b[1;36mdefault\u001b[1;35m\u001b[0m\n",
            "\u001b[1;35m  artifact_store: \u001b[0m\u001b[1;36mdefault\u001b[1;35m\u001b[0m\n",
            "\u001b[1;35m  orchestrator: \u001b[0m\u001b[1;36mdefault\u001b[1;35m\u001b[0m\n",
            "\u001b[1;35mDashboard URL for Pipeline Run: \u001b[0m\u001b[34mhttp://127.0.0.1:8237/projects/default/runs/277f3586-5713-4ba9-978c-204421ed5ef2\u001b[1;35m\u001b[0m\n",
            "\u001b[1;35mStep \u001b[0m\u001b[1;36mdataLoader\u001b[1;35m has started.\u001b[0m\n",
            "[dataLoader] \u001b[33mGreat Expectations not installed—skipping validation.\u001b[0m\n",
            "[dataLoader] \u001b[1;35mSemantic profiling → reports/profiling/flat:merged_all_3_datasets.csv_20250621_023248.json\u001b[0m\n",
            "[dataLoader] \u001b[33mflat:merged_all_3_datasets.csv | duplicates=75 rows (logged, not dropped).\u001b[0m\n",
            "[dataLoader] \u001b[1;35mflat:merged_all_3_datasets.csv | rows=    271 | sha256=aa1eca9f08c0\u001b[0m\n",
            "[dataLoader] Data loaded from ../Data/merged_all_3_datasets.csv with shape (271, 1943).\n",
            "[dataLoader] Data loaded successfully from ../Data/merged_all_3_datasets.csv with shape (271, 1943).\n",
            "[dataLoader] \u001b[33mBy default, the \u001b[0m\u001b[1;36mPandasMaterializer\u001b[33m stores data as a \u001b[0m\u001b[1;36m.csv\u001b[33m file. If you want to store data more efficiently, you can install \u001b[0m\u001b[1;36mpyarrow\u001b[33m by running '\u001b[0m\u001b[1;36mpip install pyarrow\u001b[33m'. This will allow \u001b[0m\u001b[1;36mPandasMaterializer\u001b[33m to automatically store the data as a \u001b[0m\u001b[1;36m.parquet\u001b[33m file instead.\u001b[0m\n",
            "[dataLoader] \u001b[33mMetadata value for key 'dtype' is too large to be stored in the database. Skipping.\u001b[0m\n",
            "\u001b[1;35mStep \u001b[0m\u001b[1;36mdataLoader\u001b[1;35m has finished in \u001b[0m\u001b[1;36m3.219s\u001b[1;35m.\u001b[0m\n",
            "\u001b[1;35mPipeline run has finished in \u001b[0m\u001b[1;36m3.458s\u001b[1;35m.\u001b[0m\n",
            "\u001b[33mBy default, the \u001b[0m\u001b[1;36mPandasMaterializer\u001b[33m stores data as a \u001b[0m\u001b[1;36m.csv\u001b[33m file. If you want to store data more efficiently, you can install \u001b[0m\u001b[1;36mpyarrow\u001b[33m by running '\u001b[0m\u001b[1;36mpip install pyarrow\u001b[33m'. This will allow \u001b[0m\u001b[1;36mPandasMaterializer\u001b[33m to automatically store the data as a \u001b[0m\u001b[1;36m.parquet\u001b[33m file instead.\u001b[0m\n"
          ]
        }
      ],
      "source": [
        "from src.Stage_1_Ingestion.data_loaders import dataLoader\n",
        "# from src.Stage_2_EPD_Analysis.EDAnalyzer import EDAnalyzer\n",
        "import warnings\n",
        "warnings.filterwarnings(\"ignore\")\n",
        "\n",
        "\n",
        "data_loader = dataLoader(\"../Data/merged_all_3_datasets.csv\",\"Breast Cancer\")"
      ]
    },
    {
      "cell_type": "code",
      "execution_count": null,
      "id": "22557965",
      "metadata": {},
      "outputs": [],
      "source": []
    }
  ],
  "metadata": {
    "kernelspec": {
      "display_name": ".venv",
      "language": "python",
      "name": "python3"
    },
    "language_info": {
      "codemirror_mode": {
        "name": "ipython",
        "version": 3
      },
      "file_extension": ".py",
      "mimetype": "text/x-python",
      "name": "python",
      "nbconvert_exporter": "python",
      "pygments_lexer": "ipython3",
      "version": "3.11.4"
    }
  },
  "nbformat": 4,
  "nbformat_minor": 5
}
